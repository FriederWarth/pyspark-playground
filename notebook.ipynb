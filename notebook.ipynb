{
 "cells": [
  {
   "cell_type": "code",
   "execution_count": 1,
   "id": "1c942be7-e072-44a1-a3bb-d6c7e5dab16c",
   "metadata": {},
   "outputs": [],
   "source": [
    "from pyspark.sql import *\n",
    "from pyspark.sql.functions import *\n",
    "from pyspark.sql.types import *\n",
    "\n",
    "# Spark session & context\n",
    "spark = SparkSession.builder.master(\"local\").getOrCreate()\n",
    "sc = spark.sparkContext"
   ]
  },
  {
   "cell_type": "markdown",
   "id": "2d4e7fb0-7965-4dfa-9fc3-fe352bd45cef",
   "metadata": {},
   "source": [
    "### CREATE"
   ]
  },
  {
   "cell_type": "code",
   "execution_count": 19,
   "id": "4022a57b-0e9c-48bf-a79d-800f3565a2a5",
   "metadata": {},
   "outputs": [
    {
     "name": "stdout",
     "output_type": "stream",
     "text": [
      "+---+------+\n",
      "|id |value |\n",
      "+---+------+\n",
      "|1  |First |\n",
      "|2  |Second|\n",
      "+---+------+\n",
      "\n"
     ]
    }
   ],
   "source": [
    "schema = StructType([\n",
    "    StructField(\"id\", IntegerType(), False),\n",
    "    StructField(\"value\", StringType(), True),\n",
    "])\n",
    "data = [\n",
    "    Row(1, \"First\"),\n",
    "    Row(2, \"Second\")\n",
    "]\n",
    "df = spark.createDataFrame(data, schema)\n",
    "df.show()"
   ]
  },
  {
   "cell_type": "markdown",
   "id": "97801341-0285-4e85-b445-17384032c3b1",
   "metadata": {
    "tags": []
   },
   "source": [
    "### INPUT"
   ]
  },
  {
   "cell_type": "code",
   "execution_count": 25,
   "id": "270d9247-2a07-407c-a06f-7964a7c3acda",
   "metadata": {},
   "outputs": [
    {
     "name": "stdout",
     "output_type": "stream",
     "text": [
      "+---+-----+\n",
      "| id|value|\n",
      "+---+-----+\n",
      "|  1|  One|\n",
      "|  2|  Two|\n",
      "+---+-----+\n",
      "\n"
     ]
    }
   ],
   "source": [
    "schema = StructType([\n",
    "    StructField(\"id\", IntegerType(), False),\n",
    "    StructField(\"value\", StringType(), True),\n",
    "])\n",
    "df = spark.read.format('csv') \\\n",
    "    .options(header=True, delimiter='^') \\\n",
    "    .schema(schema) \\\n",
    "    .load('dataSource/test.csv')\n",
    "df.show()"
   ]
  },
  {
   "cell_type": "code",
   "execution_count": 38,
   "id": "4372046c-4d58-4704-b28c-d503e07f0d79",
   "metadata": {},
   "outputs": [
    {
     "name": "stdout",
     "output_type": "stream",
     "text": [
      "+---+-----+\n",
      "| id|value|\n",
      "+---+-----+\n",
      "|  1|  One|\n",
      "|  2|  Two|\n",
      "+---+-----+\n",
      "\n"
     ]
    }
   ],
   "source": [
    "df = spark.read \\\n",
    "        .format(\"parquet\") \\\n",
    "        .load(\"dataSource/parquet\")\n",
    "df.show(100)"
   ]
  },
  {
   "cell_type": "markdown",
   "id": "a433d785-eaec-4d2e-aa0c-fb0d5d19cb60",
   "metadata": {},
   "source": [
    "### TRANSFORMATION"
   ]
  },
  {
   "cell_type": "code",
   "execution_count": 40,
   "id": "01624d15-bb75-4696-b2f2-85ece821c7f8",
   "metadata": {},
   "outputs": [
    {
     "name": "stdout",
     "output_type": "stream",
     "text": [
      "+---+-----+\n",
      "| id|value|\n",
      "+---+-----+\n",
      "|  1| null|\n",
      "|  2|  Two|\n",
      "+---+-----+\n",
      "\n"
     ]
    }
   ],
   "source": [
    "# modify single values based on condition\n",
    "df = df.withColumn('value', when(col('id') == '1', None).otherwise(col('value')))\n",
    "df.show()"
   ]
  },
  {
   "cell_type": "code",
   "execution_count": 41,
   "id": "b69dd428-3da9-401f-9c95-248232c4973e",
   "metadata": {},
   "outputs": [
    {
     "name": "stdout",
     "output_type": "stream",
     "text": [
      "+---+-----+\n",
      "| id|value|\n",
      "+---+-----+\n",
      "|  2|  Two|\n",
      "+---+-----+\n",
      "\n"
     ]
    }
   ],
   "source": [
    "df = df.filter(col('value').isNotNull())\n",
    "df.show()"
   ]
  },
  {
   "cell_type": "markdown",
   "id": "1cc69736-d494-42db-a772-e4656e3a6503",
   "metadata": {},
   "source": [
    "### OUTPUT"
   ]
  },
  {
   "cell_type": "code",
   "execution_count": 30,
   "id": "c7d8be2a-bf5e-4043-9302-6c78c372eef8",
   "metadata": {},
   "outputs": [],
   "source": [
    "spark.conf.set(\"spark.sql.parquet.outputTimestampType\", \"TIMESTAMP_MILLIS\")\n",
    "df.repartition(1).write \\\n",
    "      .mode(\"overwrite\") \\\n",
    "      .parquet(\"dataSink/parquet/\")"
   ]
  },
  {
   "cell_type": "code",
   "execution_count": 42,
   "id": "e312cac6-97b0-4f78-95e0-ae653b0c9ae2",
   "metadata": {},
   "outputs": [],
   "source": [
    "df.repartition(1).write \\\n",
    "      .mode(\"overwrite\") \\\n",
    "      .csv(\"dataSink/csv/\", sep=\"^\", header=\"true\")"
   ]
  }
 ],
 "metadata": {
  "kernelspec": {
   "display_name": "Python 3 (ipykernel)",
   "language": "python",
   "name": "python3"
  },
  "language_info": {
   "codemirror_mode": {
    "name": "ipython",
    "version": 3
   },
   "file_extension": ".py",
   "mimetype": "text/x-python",
   "name": "python",
   "nbconvert_exporter": "python",
   "pygments_lexer": "ipython3",
   "version": "3.9.10"
  }
 },
 "nbformat": 4,
 "nbformat_minor": 5
}
